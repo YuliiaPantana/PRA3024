{
  "nbformat": 4,
  "nbformat_minor": 0,
  "metadata": {
    "colab": {
      "provenance": [],
      "mount_file_id": "1BlIrsuj56GVin5fGBZ-I0BOVRhuFSQSJ",
      "authorship_tag": "ABX9TyNZjQsCXKDbq2VK4YHypH9a"
    },
    "kernelspec": {
      "name": "python3",
      "display_name": "Python 3"
    },
    "language_info": {
      "name": "python"
    }
  },
  "cells": [
    {
      "cell_type": "markdown",
      "source": [
        "Since ROOT decided to kill Colab it seems difficult/frustrating for all'yall to complete this assignment using ROOT. Let's got a more modern alternative :)\n",
        "\n",
        "UpROOT is a package for reading/writing ROOT files in Python - and nothing else.\n",
        "\n",
        "This allows you to import them into a normal array and get on with your life using the methods we taught you in week 1. Seems like a more fun way to get used to this course. I give just the basics here, no actual particle physics (I will get to it but not today!)"
      ],
      "metadata": {
        "id": "qTAHi9f7mvPo"
      }
    },
    {
      "cell_type": "code",
      "execution_count": 10,
      "metadata": {
        "colab": {
          "base_uri": "https://localhost:8080/"
        },
        "id": "_kWO2KSYi5iz",
        "outputId": "11aeaa01-69e5-4238-df6e-f36956ee4f8b"
      },
      "outputs": [
        {
          "output_type": "stream",
          "name": "stdout",
          "text": [
            "Looking in indexes: https://pypi.org/simple, https://us-python.pkg.dev/colab-wheels/public/simple/\n",
            "Requirement already satisfied: uproot in /usr/local/lib/python3.8/dist-packages (5.0.2)\n",
            "Requirement already satisfied: awkward in /usr/local/lib/python3.8/dist-packages (2.0.7)\n",
            "Collecting lz4\n",
            "  Downloading lz4-4.3.2-cp38-cp38-manylinux_2_17_x86_64.manylinux2014_x86_64.whl (1.3 MB)\n",
            "\u001b[2K     \u001b[90m━━━━━━━━━━━━━━━━━━━━━━━━━━━━━━━━━━━━━━━━\u001b[0m \u001b[32m1.3/1.3 MB\u001b[0m \u001b[31m48.7 MB/s\u001b[0m eta \u001b[36m0:00:00\u001b[0m\n",
            "\u001b[?25hCollecting xxhash\n",
            "  Downloading xxhash-3.2.0-cp38-cp38-manylinux_2_17_x86_64.manylinux2014_x86_64.whl (213 kB)\n",
            "\u001b[2K     \u001b[90m━━━━━━━━━━━━━━━━━━━━━━━━━━━━━━━━━━━━━━\u001b[0m \u001b[32m213.0/213.0 KB\u001b[0m \u001b[31m24.6 MB/s\u001b[0m eta \u001b[36m0:00:00\u001b[0m\n",
            "\u001b[?25hRequirement already satisfied: packaging in /usr/local/lib/python3.8/dist-packages (from uproot) (23.0)\n",
            "Requirement already satisfied: numpy in /usr/local/lib/python3.8/dist-packages (from uproot) (1.21.6)\n",
            "Requirement already satisfied: importlib-resources in /usr/local/lib/python3.8/dist-packages (from awkward) (5.10.2)\n",
            "Requirement already satisfied: awkward-cpp==8 in /usr/local/lib/python3.8/dist-packages (from awkward) (8)\n",
            "Requirement already satisfied: typing-extensions>=4.1.0 in /usr/local/lib/python3.8/dist-packages (from awkward) (4.4.0)\n",
            "Requirement already satisfied: zipp>=3.1.0 in /usr/local/lib/python3.8/dist-packages (from importlib-resources->awkward) (3.12.1)\n",
            "Installing collected packages: xxhash, lz4\n",
            "Successfully installed lz4-4.3.2 xxhash-3.2.0\n"
          ]
        }
      ],
      "source": [
        "!pip install uproot awkward lz4 xxhash"
      ]
    },
    {
      "cell_type": "markdown",
      "source": [
        "Now connect your notebook to GoogleDrive as normal.."
      ],
      "metadata": {
        "id": "qaIdTZ2Xj4OV"
      }
    },
    {
      "cell_type": "code",
      "source": [
        "import uproot\n",
        "f=uproot.open (\"/content/drive/MyDrive/B2HHH_MagnetDown.root\")\n",
        "f.keys()"
      ],
      "metadata": {
        "colab": {
          "base_uri": "https://localhost:8080/"
        },
        "id": "OczKCgKkj9jO",
        "outputId": "b96d3726-be2a-4848-f34b-d433f77df4d8"
      },
      "execution_count": 22,
      "outputs": [
        {
          "output_type": "execute_result",
          "data": {
            "text/plain": [
              "['DecayTree;1']"
            ]
          },
          "metadata": {},
          "execution_count": 22
        }
      ]
    },
    {
      "cell_type": "code",
      "source": [
        "f[\"DecayTree\"].show()"
      ],
      "metadata": {
        "colab": {
          "base_uri": "https://localhost:8080/"
        },
        "id": "mHOtFtAek4uZ",
        "outputId": "19cd4fa0-9fc0-4196-f964-1a08fc524287"
      },
      "execution_count": 23,
      "outputs": [
        {
          "output_type": "stream",
          "name": "stdout",
          "text": [
            "name                 | typename                 | interpretation                \n",
            "---------------------+--------------------------+-------------------------------\n",
            "B_FlightDistance     | double                   | AsDtype('>f8')\n",
            "B_VertexChi2         | double                   | AsDtype('>f8')\n",
            "H1_PX                | double                   | AsDtype('>f8')\n",
            "H1_PY                | double                   | AsDtype('>f8')\n",
            "H1_PZ                | double                   | AsDtype('>f8')\n",
            "H1_ProbK             | double                   | AsDtype('>f8')\n",
            "H1_ProbPi            | double                   | AsDtype('>f8')\n",
            "H1_Charge            | int32_t                  | AsDtype('>i4')\n",
            "H1_IPChi2            | double                   | AsDtype('>f8')\n",
            "H1_isMuon            | int32_t                  | AsDtype('>i4')\n",
            "H2_PX                | double                   | AsDtype('>f8')\n",
            "H2_PY                | double                   | AsDtype('>f8')\n",
            "H2_PZ                | double                   | AsDtype('>f8')\n",
            "H2_ProbK             | double                   | AsDtype('>f8')\n",
            "H2_ProbPi            | double                   | AsDtype('>f8')\n",
            "H2_Charge            | int32_t                  | AsDtype('>i4')\n",
            "H2_IPChi2            | double                   | AsDtype('>f8')\n",
            "H2_isMuon            | int32_t                  | AsDtype('>i4')\n",
            "H3_PX                | double                   | AsDtype('>f8')\n",
            "H3_PY                | double                   | AsDtype('>f8')\n",
            "H3_PZ                | double                   | AsDtype('>f8')\n",
            "H3_ProbK             | double                   | AsDtype('>f8')\n",
            "H3_ProbPi            | double                   | AsDtype('>f8')\n",
            "H3_Charge            | int32_t                  | AsDtype('>i4')\n",
            "H3_IPChi2            | double                   | AsDtype('>f8')\n",
            "H3_isMuon            | int32_t                  | AsDtype('>i4')\n"
          ]
        }
      ]
    },
    {
      "cell_type": "markdown",
      "source": [],
      "metadata": {
        "id": "1rfktSaRk4kD"
      }
    },
    {
      "cell_type": "code",
      "source": [
        "f[\"DecayTree/H1_PX\"].array()"
      ],
      "metadata": {
        "colab": {
          "base_uri": "https://localhost:8080/",
          "height": 399
        },
        "id": "4DSXPHlgluVw",
        "outputId": "627d6d42-6bda-4933-be55-82e3b664948c"
      },
      "execution_count": 24,
      "outputs": [
        {
          "output_type": "execute_result",
          "data": {
            "text/html": [
              "<pre>[375,\n",
              " -4.99e+03,\n",
              " -1.27e+03,\n",
              " -721,\n",
              " 398,\n",
              " 2e+03,\n",
              " 579,\n",
              " 766,\n",
              " 3.01e+03,\n",
              " 1.82e+03,\n",
              " ...,\n",
              " 227,\n",
              " 1.75e+03,\n",
              " 171,\n",
              " -1.3e+03,\n",
              " 2.61e+03,\n",
              " 2.61e+03,\n",
              " 2.61e+03,\n",
              " -295,\n",
              " 499]\n",
              "-----------------------\n",
              "type: 5135823 * float64</pre>"
            ],
            "text/plain": [
              "<Array [375, -4.99e+03, -1.27e+03, ..., -295, 499] type='5135823 * float64'>"
            ]
          },
          "metadata": {},
          "execution_count": 24
        }
      ]
    },
    {
      "cell_type": "code",
      "source": [
        "f[\"DecayTree/H1_PX\"].array(library=\"pd\")"
      ],
      "metadata": {
        "colab": {
          "base_uri": "https://localhost:8080/"
        },
        "id": "BfW6t3f_mDX9",
        "outputId": "16edabc4-b06c-4b29-8367-d6e75a6ca416"
      },
      "execution_count": 25,
      "outputs": [
        {
          "output_type": "execute_result",
          "data": {
            "text/plain": [
              "0           375.284205\n",
              "1         -4985.130785\n",
              "2         -1265.456544\n",
              "3          -720.797259\n",
              "4           397.754571\n",
              "              ...     \n",
              "5135818    2606.910839\n",
              "5135819    2606.910839\n",
              "5135820    2606.910839\n",
              "5135821    -294.710989\n",
              "5135822     499.042349\n",
              "Length: 5135823, dtype: float64"
            ]
          },
          "metadata": {},
          "execution_count": 25
        }
      ]
    },
    {
      "cell_type": "markdown",
      "source": [
        "You can load multiple vars into one array using .arrays ()\n",
        "\n",
        "More examples and tutorials are here:https://uproot.readthedocs.io/en/latest/basic.html"
      ],
      "metadata": {
        "id": "jok15QyhmlU6"
      }
    }
  ]
}