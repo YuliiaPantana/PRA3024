{
  "cells": [
    {
      "cell_type": "markdown",
      "metadata": {
        "id": "view-in-github",
        "colab_type": "text"
      },
      "source": [
        "<a href=\"https://colab.research.google.com/github/YuliiaPantana/PRA3024/blob/master/Copy_of_LHCb_2023.ipynb\" target=\"_parent\"><img src=\"https://colab.research.google.com/assets/colab-badge.svg\" alt=\"Open In Colab\"/></a>"
      ]
    },
    {
      "cell_type": "code",
      "execution_count": 155,
      "metadata": {
        "colab": {
          "base_uri": "https://localhost:8080/"
        },
        "id": "Co476pbmBvBB",
        "outputId": "307d28a1-11e1-43e9-d528-c534f0c8b9d6"
      },
      "outputs": [
        {
          "output_type": "stream",
          "name": "stdout",
          "text": [
            "Looking in indexes: https://pypi.org/simple, https://us-python.pkg.dev/colab-wheels/public/simple/\n",
            "Requirement already satisfied: uproot in /usr/local/lib/python3.8/dist-packages (5.0.3)\n",
            "Requirement already satisfied: awkward in /usr/local/lib/python3.8/dist-packages (2.0.8)\n",
            "Requirement already satisfied: lz4 in /usr/local/lib/python3.8/dist-packages (4.3.2)\n",
            "Requirement already satisfied: xxhash in /usr/local/lib/python3.8/dist-packages (3.2.0)\n",
            "Requirement already satisfied: numpy in /usr/local/lib/python3.8/dist-packages (from uproot) (1.22.4)\n",
            "Requirement already satisfied: packaging in /usr/local/lib/python3.8/dist-packages (from uproot) (23.0)\n",
            "Requirement already satisfied: awkward-cpp==9 in /usr/local/lib/python3.8/dist-packages (from awkward) (9)\n",
            "Requirement already satisfied: importlib-resources in /usr/local/lib/python3.8/dist-packages (from awkward) (5.12.0)\n",
            "Requirement already satisfied: typing-extensions>=4.1.0 in /usr/local/lib/python3.8/dist-packages (from awkward) (4.5.0)\n",
            "Requirement already satisfied: zipp>=3.1.0 in /usr/local/lib/python3.8/dist-packages (from importlib-resources->awkward) (3.14.0)\n",
            "name                 | typename                 | interpretation                \n",
            "---------------------+--------------------------+-------------------------------\n",
            "B_FlightDistance     | double                   | AsDtype('>f8')\n",
            "B_VertexChi2         | double                   | AsDtype('>f8')\n",
            "H1_PX                | double                   | AsDtype('>f8')\n",
            "H1_PY                | double                   | AsDtype('>f8')\n",
            "H1_PZ                | double                   | AsDtype('>f8')\n",
            "H1_ProbK             | double                   | AsDtype('>f8')\n",
            "H1_ProbPi            | double                   | AsDtype('>f8')\n",
            "H1_Charge            | int32_t                  | AsDtype('>i4')\n",
            "H1_IPChi2            | double                   | AsDtype('>f8')\n",
            "H1_isMuon            | int32_t                  | AsDtype('>i4')\n",
            "H2_PX                | double                   | AsDtype('>f8')\n",
            "H2_PY                | double                   | AsDtype('>f8')\n",
            "H2_PZ                | double                   | AsDtype('>f8')\n",
            "H2_ProbK             | double                   | AsDtype('>f8')\n",
            "H2_ProbPi            | double                   | AsDtype('>f8')\n",
            "H2_Charge            | int32_t                  | AsDtype('>i4')\n",
            "H2_IPChi2            | double                   | AsDtype('>f8')\n",
            "H2_isMuon            | int32_t                  | AsDtype('>i4')\n",
            "H3_PX                | double                   | AsDtype('>f8')\n",
            "H3_PY                | double                   | AsDtype('>f8')\n",
            "H3_PZ                | double                   | AsDtype('>f8')\n",
            "H3_ProbK             | double                   | AsDtype('>f8')\n",
            "H3_ProbPi            | double                   | AsDtype('>f8')\n",
            "H3_Charge            | int32_t                  | AsDtype('>i4')\n",
            "H3_IPChi2            | double                   | AsDtype('>f8')\n",
            "H3_isMuon            | int32_t                  | AsDtype('>i4')\n"
          ]
        },
        {
          "output_type": "execute_result",
          "data": {
            "text/plain": [
              "0           375.284205\n",
              "1         -4985.130785\n",
              "2         -1265.456544\n",
              "3          -720.797259\n",
              "4           397.754571\n",
              "              ...     \n",
              "5135818    2606.910839\n",
              "5135819    2606.910839\n",
              "5135820    2606.910839\n",
              "5135821    -294.710989\n",
              "5135822     499.042349\n",
              "Length: 5135823, dtype: float64"
            ]
          },
          "metadata": {},
          "execution_count": 155
        }
      ],
      "source": [
        "!pip install uproot awkward lz4 xxhash\n",
        "import uproot\n",
        "f=uproot.open (\"/content/drive/MyDrive/B2HHH_MagnetDown(5).root\")\n",
        "f.keys()\n",
        "f[\"DecayTree\"].show()\n",
        "f[\"DecayTree/H1_PX\"].array()\n",
        "f[\"DecayTree/H1_PX\"].array(library=\"pd\")"
      ]
    },
    {
      "cell_type": "code",
      "execution_count": null,
      "metadata": {
        "colab": {
          "base_uri": "https://localhost:8080/"
        },
        "id": "Js9MHxOj9OjB",
        "outputId": "26988af3-f521-45ea-986e-28b68d8a4315"
      },
      "outputs": [
        {
          "name": "stdout",
          "output_type": "stream",
          "text": [
            "Drive already mounted at /content/drive; to attempt to forcibly remount, call drive.mount(\"/content/drive\", force_remount=True).\n"
          ]
        }
      ],
      "source": [
        "from google.colab import drive\n",
        "drive.mount('/content/drive')"
      ]
    },
    {
      "cell_type": "code",
      "execution_count": 156,
      "metadata": {
        "id": "CM-gqaBwQTlx"
      },
      "outputs": [],
      "source": [
        "#importing necessary packages\n",
        "import numpy as np\n",
        "import matplotlib.pyplot as plt\n",
        "import math"
      ]
    },
    {
      "cell_type": "code",
      "execution_count": 157,
      "metadata": {
        "id": "pnm6DaUGQ1pp"
      },
      "outputs": [],
      "source": [
        "#Here the data for PX, PY, PZ from DecayTree will be copied to local arrays; this is done with purpose to reduce time of future operations\n",
        "H1_Px_array = f[\"DecayTree/H1_PX\"].array()\n",
        "H1_Py_array = f[\"DecayTree/H1_PY\"].array()\n",
        "H1_Pz_array = f[\"DecayTree/H1_PZ\"].array()\n",
        "H2_Px_array = f[\"DecayTree/H2_PX\"].array()\n",
        "H2_Py_array = f[\"DecayTree/H2_PY\"].array()\n",
        "H2_Pz_array = f[\"DecayTree/H2_PZ\"].array()\n",
        "H3_Px_array = f[\"DecayTree/H3_PX\"].array()\n",
        "H3_Py_array = f[\"DecayTree/H3_PY\"].array()\n",
        "H3_Pz_array = f[\"DecayTree/H3_PZ\"].array()\n",
        "     \n"
      ]
    },
    {
      "cell_type": "code",
      "execution_count": 158,
      "metadata": {
        "id": "Y4keyoyTPjsK"
      },
      "outputs": [],
      "source": [
        "#Here the calculations for plotting the Total momentum of each of the three daughters will be made\n",
        "H1_Ptot_array = []\n",
        "H2_Ptot_array = []\n",
        "H3_Ptot_array = []\n",
        "for i in range (0, 5000): \n",
        "  #Here the total momentum will be found through computing the lenth of the vetor P_tot by knowing its components PX, PY, PZ\n",
        "  H1_Ptot = pow((pow(H1_Px_array[i], 2) + pow(H1_Py_array[i], 2) + pow(H1_Pz_array[i], 2)), 0.5)\n",
        "  H1_Ptot_array.append(H1_Ptot)\n",
        "  H2_Ptot = pow((pow(H2_Px_array[i], 2) + pow(H2_Py_array[i], 2) + pow(H2_Pz_array[i], 2)), 0.5)\n",
        "  H2_Ptot_array.append(H2_Ptot)\n",
        "  H3_Ptot = pow((pow(H3_Px_array[i], 2) + pow(H3_Py_array[i], 2) + pow(H3_Pz_array[i], 2)), 0.5)\n",
        "  H3_Ptot_array.append(H3_Ptot)\n"
      ]
    },
    {
      "cell_type": "code",
      "execution_count": 163,
      "metadata": {
        "colab": {
          "base_uri": "https://localhost:8080/",
          "height": 297
        },
        "id": "hfjIaBvHr31q",
        "outputId": "81784b7d-cb83-4cdb-cc2e-05b44e85439f"
      },
      "outputs": [
        {
          "output_type": "execute_result",
          "data": {
            "text/plain": [
              "Text(0, 0.5, 'The Number of Particles')"
            ]
          },
          "metadata": {},
          "execution_count": 163
        },
        {
          "output_type": "display_data",
          "data": {
            "text/plain": [
              "<Figure size 432x288 with 1 Axes>"
            ],
            "image/png": "[encoded data removed]"
          },
          "metadata": {
            "needs_background": "light"
          }
        }
      ],
      "source": [
        "#Here the total Momentum for H1 particle will be plotted\n",
        "plt.hist(H1_Ptot_array)\n",
        "plt.xlabel(\"Total Momentum, MeV/c\")\n",
        "plt.ylabel(\"The Number of Particles\")"
      ]
    },
    {
      "cell_type": "code",
      "execution_count": 164,
      "metadata": {
        "colab": {
          "base_uri": "https://localhost:8080/",
          "height": 297
        },
        "id": "zfg1F4cEsIL4",
        "outputId": "655a831d-0691-44ed-d7bf-8039957232c0"
      },
      "outputs": [
        {
          "output_type": "execute_result",
          "data": {
            "text/plain": [
              "Text(0.5, 0, 'Total Momentum, MeV/c')"
            ]
          },
          "metadata": {},
          "execution_count": 164
        },
        {
          "output_type": "display_data",
          "data": {
            "text/plain": [
              "<Figure size 432x288 with 1 Axes>"
            ],
            "image/png": "[encoded data removed]"
          },
          "metadata": {
            "needs_background": "light"
          }
        }
      ],
      "source": [
        "#Here the total Momentum for H2 particle will be plotted\n",
        "plt.hist(H2_Ptot_array)\n",
        "plt.ylabel(\"Number of the Particles\")\n",
        "plt.xlabel(\"Total Momentum, MeV/c\")"
      ]
    },
    {
      "cell_type": "code",
      "execution_count": 165,
      "metadata": {
        "colab": {
          "base_uri": "https://localhost:8080/",
          "height": 297
        },
        "id": "N_JtIM6bsJcj",
        "outputId": "1c412cf6-178c-4a7f-b6aa-a15172f7bd08"
      },
      "outputs": [
        {
          "output_type": "execute_result",
          "data": {
            "text/plain": [
              "Text(0.5, 0, 'Total Momentum, MeV/c')"
            ]
          },
          "metadata": {},
          "execution_count": 165
        },
        {
          "output_type": "display_data",
          "data": {
            "text/plain": [
              "<Figure size 432x288 with 1 Axes>"
            ],
            "image/png": "[encoded data removed]"
          },
          "metadata": {
            "needs_background": "light"
          }
        }
      ],
      "source": [
        "#Here the total Momentum for H3 particle will be plotted\n",
        "plt.hist(H3_Ptot_array)\n",
        "plt.ylabel(\"Number of the particles\")\n",
        "plt.xlabel(\"Total Momentum, MeV/c\")"
      ]
    },
    {
      "cell_type": "code",
      "execution_count": 166,
      "metadata": {
        "colab": {
          "base_uri": "https://localhost:8080/",
          "height": 297
        },
        "id": "6kdbiNpPR1QG",
        "outputId": "67db8642-bcce-45fc-f3f1-bd08f734fb9a"
      },
      "outputs": [
        {
          "output_type": "execute_result",
          "data": {
            "text/plain": [
              "Text(0.5, 0, 'Total Momentum, MeV/c')"
            ]
          },
          "metadata": {},
          "execution_count": 166
        },
        {
          "output_type": "display_data",
          "data": {
            "text/plain": [
              "<Figure size 432x288 with 1 Axes>"
            ],
            "image/png": "[encoded data removed]"
          },
          "metadata": {
            "needs_background": "light"
          }
        }
      ],
      "source": [
        "#Here momentum of the mother will be calculated and plotted\n",
        "M_Ptot_array = []\n",
        "for i in range (0, 5000):\n",
        "  #Here the M_Ptot will by found based on momentum conservation principle applied to states before and after the decay\n",
        "  #The components of M_Ptot were found as sum of components of daughter particles momentum, then the M_Ptot was computed in similar way as P_tot for H1, H2, H3\n",
        "  M_Ptot = pow(pow((H1_Px_array[i] + H2_Px_array[i] + H3_Px_array[i]),2) + pow((H1_Py_array[i] + H2_Py_array[i] + H3_Py_array[i]),2) + pow((H1_Pz_array[i] + H2_Pz_array[i] + H3_Pz_array[i]), 2), 0.5)\n",
        "  M_Ptot_array.append(M_Ptot)\n",
        "plt.hist(M_Ptot_array)\n",
        "plt.ylabel(\"Number of the Particles\")\n",
        "plt.xlabel(\"Total Momentum, MeV/c\")"
      ]
    },
    {
      "cell_type": "code",
      "source": [
        "tree.Show(45) #did not work "
      ],
      "metadata": {
        "id": "aaKUyY5pbmSH"
      },
      "execution_count": null,
      "outputs": []
    },
    {
      "cell_type": "code",
      "execution_count": 167,
      "metadata": {
        "id": "b3jWtfboVUTm"
      },
      "outputs": [],
      "source": [
        "#Here the data for ProbK, ProbPi, H_isMuon from DecayTree will be copied to local arrays; this is done with purpose to reduce time of future operations\n",
        "H1_ProbK_array = f[\"DecayTree/H1_ProbK\"].array()\n",
        "H2_ProbK_array = f[\"DecayTree/H2_ProbK\"].array()\n",
        "H3_ProbK_array = f[\"DecayTree/H3_ProbK\"].array()\n",
        "H1_ProbPi_array = f[\"DecayTree/H1_ProbPi\"].array()\n",
        "H2_ProbPi_array = f[\"DecayTree/H2_ProbPi\"].array()\n",
        "H3_ProbPi_array = f[\"DecayTree/H3_ProbPi\"].array()\n",
        "H1_isMuon_array = f[\"DecayTree/H1_isMuon\"].array()\n",
        "H2_isMuon_array = f[\"DecayTree/H2_isMuon\"].array()\n",
        "H3_isMuon_array = f[\"DecayTree/H3_isMuon\"].array()\n",
        "H1_Charge_array = f[\"DecayTree/H1_Charge\"].array()\n",
        "H2_Charge_array = f[\"DecayTree/H2_Charge\"].array()\n",
        "H3_Charge_array = f[\"DecayTree/H3_Charge\"].array()\n",
        "   "
      ]
    },
    {
      "cell_type": "code",
      "execution_count": 168,
      "metadata": {
        "id": "onr7-8CMbbFf",
        "colab": {
          "base_uri": "https://localhost:8080/",
          "height": 297
        },
        "outputId": "7390d874-d2c6-4edc-c55f-b449aab6f902"
      },
      "outputs": [
        {
          "output_type": "execute_result",
          "data": {
            "text/plain": [
              "Text(0.5, 0, 'Mass, MeV/c^2')"
            ]
          },
          "metadata": {},
          "execution_count": 168
        },
        {
          "output_type": "display_data",
          "data": {
            "text/plain": [
              "<Figure size 432x288 with 1 Axes>"
            ],
            "image/png": "[encoded data removed]"
          },
          "metadata": {
            "needs_background": "light"
          }
        }
      ],
      "source": [
        "#Here the histogram of the range of masses of the B meson will be plotted\n",
        "M_M_array = []\n",
        "for i in range (0, 5000):\n",
        "  #The data will not be filtered, here it is approximated that each set of corresponding daughter particles corresponds to the meson mother particle\n",
        "        #The principle of mass computation will be based on Relativistic Energy-Momentum Relation (E^2 = P^2*C^2 + M^2*C^2), where in natural units 'C' scales to 1.\n",
        "        #The energy of mother particle will be found through energy conservation principle and momentum conservation principle applied to states of the particles before and after the decay\n",
        "        #The values of masses of particles were taken as masses of Kaons, which were taken from the internet in MeV/c^2 units\n",
        "        H1_E = math.sqrt((H1_Ptot_array[i]**2) + (497.6)**2) \n",
        "        H2_E = math.sqrt((H2_Ptot_array[i]**2) + (497.6)**2)\n",
        "        H3_E = math.sqrt((H3_Ptot_array[i]**2) + (497.6)**2)\n",
        "        M_E = H1_E +  H2_E + H3_E\n",
        "        M_M = math.sqrt((M_E**2 - (M_Ptot_array[i])**2))\n",
        "        M_M_array.append(M_M)\n",
        "\n",
        "#Here the histogram of mass ranges of the B meson will be plot\n",
        "plt.hist(M_M_array, bins = 'auto')\n",
        "plt.ylabel(\"Number of the Particles\")\n",
        "plt.xlabel(\"Mass, MeV/c^2\")\n",
        "         \n",
        "\n",
        "#Does this match what we would expect from theory?\n",
        "# --- From this histogram it can be observed that the value for mass varies significantly, this means that there were different particles in experiment, and approximation that all particles were the daughter particles of meson was not reasonable. "
      ]
    },
    {
      "cell_type": "code",
      "execution_count": 169,
      "metadata": {
        "colab": {
          "base_uri": "https://localhost:8080/",
          "height": 279
        },
        "id": "k0vikJp0cAvv",
        "outputId": "c8d6b86e-b0fe-4ca3-d127-bed3e7f311f2"
      },
      "outputs": [
        {
          "output_type": "display_data",
          "data": {
            "text/plain": [
              "<Figure size 432x288 with 1 Axes>"
            ],
            "image/png": "[encoded data removed]"
          },
          "metadata": {
            "needs_background": "light"
          }
        }
      ],
      "source": [
        "#Here histograms H1/H2/H3 _ProbK will be plotted\n",
        "f[\"DecayTree/H1_ProbK\"].array() \n",
        "f[\"DecayTree/H2_ProbK\"].array()\n",
        "f[\"DecayTree/H3_ProbK\"].array()\n",
        "plt.hist(f[\"DecayTree/H1_ProbK\"].array()[0: 5000], label='H1_ProbK', histtype = 'step')\n",
        "plt.hist(f[\"DecayTree/H2_ProbK\"].array()[0: 5000], label='H2_ProbK', histtype = 'step')\n",
        "plt.hist(f[\"DecayTree/H3_ProbK\"].array()[0: 5000], label='H3_ProbK', histtype = 'step')\n",
        "plt.ylabel(\"Abundance\")\n",
        "plt.xlabel(\"Probability to be Kaon\")\n",
        "ax = plt.subplot()\n",
        "leg=ax.legend();"
      ]
    },
    {
      "cell_type": "code",
      "execution_count": 170,
      "metadata": {
        "colab": {
          "base_uri": "https://localhost:8080/",
          "height": 279
        },
        "id": "WBQgpSLs1UBb",
        "outputId": "70d611ff-e396-4055-9b78-862379707963"
      },
      "outputs": [
        {
          "output_type": "display_data",
          "data": {
            "text/plain": [
              "<Figure size 432x288 with 1 Axes>"
            ],
            "image/png": "[encoded data removed]"
          },
          "metadata": {
            "needs_background": "light"
          }
        }
      ],
      "source": [
        "#Here histograms of H1/H2/H3 _ProbPi will be plotted\n",
        "f[\"DecayTree/H1_ProbPi\"].array() \n",
        "f[\"DecayTree/H2_ProbPi\"].array()\n",
        "f[\"DecayTree/H3_ProbPi\"].array()\n",
        "plt.hist(f[\"DecayTree/H1_ProbPi\"].array()[0: 5000], label='H1_ProbPi', histtype = 'step')\n",
        "plt.hist(f[\"DecayTree/H2_ProbPi\"].array()[0: 5000], label='H2_ProbPi', histtype = 'step')\n",
        "plt.hist(f[\"DecayTree/H3_ProbPi\"].array()[0: 5000], label='H3_ProbPi', histtype = 'step')\n",
        "plt.xlabel(\"Probability to be Pion\")\n",
        "plt.ylabel(\"Abundance\")\n",
        "ax = plt.subplot()\n",
        "leg=ax.legend();"
      ]
    },
    {
      "cell_type": "code",
      "execution_count": 171,
      "metadata": {
        "colab": {
          "base_uri": "https://localhost:8080/",
          "height": 298
        },
        "id": "bGO9bOe26gxL",
        "outputId": "88beec72-0bb5-4dc8-de1f-afc5abae25d6"
      },
      "outputs": [
        {
          "output_type": "execute_result",
          "data": {
            "text/plain": [
              "Text(0.5, 0, 'B_VertexChi2')"
            ]
          },
          "metadata": {},
          "execution_count": 171
        },
        {
          "output_type": "display_data",
          "data": {
            "text/plain": [
              "<Figure size 432x288 with 1 Axes>"
            ],
            "image/png": "[encoded data removed]"
          },
          "metadata": {
            "needs_background": "light"
          }
        }
      ],
      "source": [
        "#Here the B_VertexChi2 will be plotted\n",
        "f[\"DecayTree/B_VertexChi2\"].array()\n",
        "plt.hist(f[\"DecayTree/B_VertexChi2\"].array()[0: 5000])\n",
        "plt.ylabel(\"Abundance\")\n",
        "plt.xlabel(\"B_VertexChi2\")"
      ]
    },
    {
      "cell_type": "code",
      "execution_count": 172,
      "metadata": {
        "colab": {
          "base_uri": "https://localhost:8080/",
          "height": 297
        },
        "id": "MxD7JMeicMu0",
        "outputId": "1635b5a4-0e46-4b31-dd83-48eb5010db90"
      },
      "outputs": [
        {
          "output_type": "execute_result",
          "data": {
            "text/plain": [
              "Text(0, 0.5, 'Proportion of the whole number of Particles')"
            ]
          },
          "metadata": {},
          "execution_count": 172
        },
        {
          "output_type": "display_data",
          "data": {
            "text/plain": [
              "<Figure size 432x288 with 1 Axes>"
            ],
            "image/png": "[encoded data removed]"
          },
          "metadata": {
            "needs_background": "light"
          }
        }
      ],
      "source": [
        "#Since in this code uproot was used there was no tree name defined as well as model did not have CutTree and raleted attributes, selection was made by for cycles as well as condition selections\n",
        "M_M_filtered_array = []\n",
        "for i in range (0, 5000):\n",
        "  #here mesons will be filtered from any other particles, the mass of mesons will be collected into M_M_filtered_array\n",
        "  #this condition checkes if all three daughter particles are Kaons; a particle is cosnisdered to be a Kaon if the corresponding probability is more than 0.9, probability of being Pion is less than 0.5 and probaility of being muon is zero\n",
        "  if (H1_ProbK_array[i] > 0.9) and (H2_ProbK_array[i] > 0.9) and (H3_ProbK_array[i] > 0.9) and (H1_isMuon_array[i]==0 and H2_isMuon_array[i]==0 and H3_isMuon_array[i]==0) and ((H1_ProbPi_array[i] < 0.5) and (H2_ProbPi_array[i] < 0.5) and (H3_ProbPi_array[i] < 0.5)):\n",
        "        H1_E = math.sqrt((H1_Ptot_array[i]**2) + (497.6)**2) \n",
        "        H2_E = math.sqrt((H2_Ptot_array[i]**2) + (497.6)**2)\n",
        "        H3_E = math.sqrt((H3_Ptot_array[i]**2) + (497.6)**2)\n",
        "        M_E = H1_E +  H2_E + H3_E\n",
        "        M_M_filtered = math.sqrt((M_E**2 - (M_Ptot_array[i])**2))\n",
        "        M_M_filtered_array.append(M_M_filtered)\n",
        "plt.hist(M_M_filtered_array)\n",
        "plt.xlabel(\"The range of Mass of the Meson, MeV/c^2\")\n",
        "plt.ylabel(\"Proportion of the whole number of Particles\")\n"
      ]
    },
    {
      "cell_type": "code",
      "execution_count": 173,
      "metadata": {
        "id": "hmmsoUwEcOir",
        "colab": {
          "base_uri": "https://localhost:8080/",
          "height": 279
        },
        "outputId": "5e99bd89-4145-4557-8d99-0c22773bb926"
      },
      "outputs": [
        {
          "output_type": "display_data",
          "data": {
            "text/plain": [
              "<Figure size 432x288 with 1 Axes>"
            ],
            "image/png": "[encoded data removed]"
          },
          "metadata": {
            "needs_background": "light"
          }
        }
      ],
      "source": [
        "#Here the B meson mass from both the M_M_array and M_M_filtered_array will be plotted on one histogram\n",
        "plt.hist(M_M_filtered_array, label='Mass based on filtered data', histtype='step')\n",
        "plt.hist(M_M_array, label='Mass based on unfiltered data', histtype='step')\n",
        "plt.xlabel(\"Mass, MeV/c^2\")\n",
        "plt.ylabel(\"Abundance\")\n",
        "ax = plt.subplot()\n",
        "leg=ax.legend();\n",
        "#What do you notice about your histogram now?\n",
        "#From histogram it can be seen that the variability of filtered mass is negligible when comparing it to variability of unfiltered mass data "
      ]
    },
    {
      "cell_type": "code",
      "execution_count": 175,
      "metadata": {
        "id": "UiPNe2iuobSK",
        "colab": {
          "base_uri": "https://localhost:8080/"
        },
        "outputId": "538d4028-a7fa-4bd3-eb76-9eb45934ed18"
      },
      "outputs": [
        {
          "output_type": "stream",
          "name": "stdout",
          "text": [
            "-0.03225806451612903\n",
            "0.17951183061683934\n"
          ]
        }
      ],
      "source": [
        "#Here the number of particles and antiparticles will be counted \n",
        "N_B_Positive = 0\n",
        "N_B_Negative = 0\n",
        "for i in range (0, 110000):\n",
        "  #here mesons will be filtered from any other particles, the mass of mesons will be collected into M_M_filtered_array\n",
        "  #this condition filteres M_M_array to M_M_filtered_array\n",
        "  if (H1_ProbK_array[i] > 0.9) and (H2_ProbK_array[i] > 0.9) and (H3_ProbK_array[i] > 0.9) and (H1_isMuon_array[i]==0 and H2_isMuon_array[i]==0 and H3_isMuon_array[i]==0) and ((H1_ProbPi_array[i] < 0.5) and (H2_ProbPi_array[i] < 0.5) and (H3_ProbPi_array[i] < 0.5)):\n",
        "    #this condition filteres out particles B+, by checking that one and only one particle of three has a charge '-1'\n",
        "         if (H1_Charge_array[i] == -1)^(H2_Charge_array[i] == -1)^(H3_Charge_array[i] ==-1):\n",
        "             N_B_Positive = N_B_Positive + 1 \n",
        "    #this condition filteres out particles B+, by checking that one and only one particle of three has a charge '-1'\n",
        "         if (H1_Charge_array[i] == 1)^(H2_Charge_array[i] == 1)^(H3_Charge_array[i] == 1):\n",
        "             N_B_Negative = N_B_Negative + 1\n",
        "        \n",
        "#Here the assymetry will be calculated\n",
        "A = (N_B_Negative - N_B_Positive)/(N_B_Negative + N_B_Positive)\n",
        "print(A)\n",
        "#Here the uncertanty 'd' of this result will be calculated:\n",
        "d = math.sqrt((1 - A**2)/(N_B_Negative + N_B_Positive)) \n",
        "print(d)\n",
        "#From calculations it can be seen that for this set of data there are more matter than antimatter"
      ]
    }
  ],
  "metadata": {
    "colab": {
      "provenance": [],
      "include_colab_link": true
    },
    "gpuClass": "standard",
    "kernelspec": {
      "display_name": "Python 2",
      "name": "python2"
    }
  },
  "nbformat": 4,
  "nbformat_minor": 0
}